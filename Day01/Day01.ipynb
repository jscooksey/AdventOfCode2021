{
 "cells": [
  {
   "cell_type": "code",
   "execution_count": 8,
   "metadata": {},
   "outputs": [
    {
     "name": "stdout",
     "output_type": "stream",
     "text": [
      "1266\n"
     ]
    }
   ],
   "source": [
    "file = open('1_actual.txt', 'r')\n",
    "lines = file.readlines()\n",
    "\n",
    "count = 0\n",
    "previous = \"\"\n",
    "\n",
    "for index, line in enumerate(lines):\n",
    "    if(previous != \"\"):\n",
    "        if(int(previous) < int(line)):\n",
    "            count += 1\n",
    "    previous = line\n",
    "    \n",
    "file.close()\n",
    "\n",
    "print(count)"
   ]
  },
  {
   "cell_type": "code",
   "execution_count": 10,
   "metadata": {},
   "outputs": [
    {
     "name": "stdout",
     "output_type": "stream",
     "text": [
      "1217\n"
     ]
    }
   ],
   "source": [
    "file = open('1_actual.txt', 'r')\n",
    "lines = file.read().splitlines()\n",
    "file.close()\n",
    "\n",
    "count = 0\n",
    "previous = int(lines[0]) + int(lines[1]) + int(lines[2])\n",
    "last = len(lines) - 2\n",
    "\n",
    "for x in range(1,last):\n",
    "    total = int(lines[x]) + int(lines[x+1]) + int(lines[x+2])\n",
    "    if(total > previous):\n",
    "        count += 1\n",
    "    previous = total\n",
    "\n",
    "print(count)"
   ]
  }
 ],
 "metadata": {
  "interpreter": {
   "hash": "ee5cc6fef2d70a7e71ee3826687cbd150f18158e0b1eef11d4f4f92bb920e304"
  },
  "kernelspec": {
   "display_name": "Python 3.9.1 64-bit",
   "language": "python",
   "name": "python3"
  },
  "language_info": {
   "codemirror_mode": {
    "name": "ipython",
    "version": 3
   },
   "file_extension": ".py",
   "mimetype": "text/x-python",
   "name": "python",
   "nbconvert_exporter": "python",
   "pygments_lexer": "ipython3",
   "version": "3.9.7"
  },
  "orig_nbformat": 4
 },
 "nbformat": 4,
 "nbformat_minor": 2
}
