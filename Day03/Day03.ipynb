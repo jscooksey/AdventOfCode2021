{
 "cells": [
  {
   "cell_type": "code",
   "execution_count": 26,
   "metadata": {},
   "outputs": [
    {
     "name": "stdout",
     "output_type": "stream",
     "text": [
      "693486\n"
     ]
    }
   ],
   "source": [
    "file = open('actual.txt', 'r')\n",
    "lines = file.read().splitlines()\n",
    "file.close()\n",
    "\n",
    "position = [0,0,0,0,0,0,0,0,0,0,0]\n",
    "gamma = 0\n",
    "epsilon = 0\n",
    "\n",
    "count = len(lines)\n",
    "width = len(lines[0])\n",
    "position = [0] * width\n",
    "\n",
    "\n",
    "for line in lines:\n",
    "    for index, char in enumerate(line):\n",
    "        if(char == '1'):\n",
    "            position[index] = position[index] + 1\n",
    "\n",
    "\n",
    "for index, digit in enumerate(position):\n",
    "    value = pow(2,(width - 1 - index))\n",
    "    if((count / digit) > 2):\n",
    "        gamma = gamma + value\n",
    "    else:\n",
    "        epsilon = epsilon + value\n",
    "\n",
    "power = gamma * epsilon\n",
    "\n",
    "print(power)"
   ]
  }
 ],
 "metadata": {
  "interpreter": {
   "hash": "aee8b7b246df8f9039afb4144a1f6fd8d2ca17a180786b69acc140d282b71a49"
  },
  "kernelspec": {
   "display_name": "Python 3.9.7 64-bit",
   "language": "python",
   "name": "python3"
  },
  "language_info": {
   "codemirror_mode": {
    "name": "ipython",
    "version": 3
   },
   "file_extension": ".py",
   "mimetype": "text/x-python",
   "name": "python",
   "nbconvert_exporter": "python",
   "pygments_lexer": "ipython3",
   "version": "3.9.7"
  },
  "orig_nbformat": 4
 },
 "nbformat": 4,
 "nbformat_minor": 2
}
