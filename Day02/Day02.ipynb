{
 "cells": [
  {
   "cell_type": "code",
   "execution_count": 1,
   "metadata": {},
   "outputs": [
    {
     "name": "stdout",
     "output_type": "stream",
     "text": [
      "2120749\n"
     ]
    }
   ],
   "source": [
    "file = open('actual.txt', 'r')\n",
    "lines = file.read().splitlines()\n",
    "file.close()\n",
    "\n",
    "position = 0\n",
    "depth = 0\n",
    "\n",
    "for line in lines:\n",
    "    command = line.split()\n",
    "    value = int(command[1])\n",
    "\n",
    "    if(command[0] == 'up'):\n",
    "        depth = depth - value\n",
    "    if(command[0] == 'down'): \n",
    "        depth = depth + value\n",
    "    if(command[0] == 'forward'):\n",
    "        position = position + value\n",
    "\n",
    "print(depth * position)"
   ]
  },
  {
   "cell_type": "code",
   "execution_count": 6,
   "metadata": {},
   "outputs": [
    {
     "name": "stdout",
     "output_type": "stream",
     "text": [
      "2138382217\n"
     ]
    }
   ],
   "source": [
    "file = open('actual.txt', 'r')\n",
    "lines = file.read().splitlines()\n",
    "file.close()\n",
    "\n",
    "aim = 0\n",
    "position = 0\n",
    "depth = 0\n",
    "\n",
    "for line in lines:\n",
    "    command = line.split()\n",
    "    value = int(command[1])\n",
    "\n",
    "    if(command[0] == 'up'):\n",
    "        aim = aim - value\n",
    "    if(command[0] == 'down'): \n",
    "        aim = aim + value\n",
    "    if(command[0] == 'forward'):\n",
    "        position = position + value\n",
    "        depth = depth + (aim * value)\n",
    "\n",
    "print(depth * position)"
   ]
  }
 ],
 "metadata": {
  "interpreter": {
   "hash": "aee8b7b246df8f9039afb4144a1f6fd8d2ca17a180786b69acc140d282b71a49"
  },
  "kernelspec": {
   "display_name": "Python 3.9.7 64-bit",
   "language": "python",
   "name": "python3"
  },
  "language_info": {
   "codemirror_mode": {
    "name": "ipython",
    "version": 3
   },
   "file_extension": ".py",
   "mimetype": "text/x-python",
   "name": "python",
   "nbconvert_exporter": "python",
   "pygments_lexer": "ipython3",
   "version": "3.9.7"
  },
  "orig_nbformat": 4
 },
 "nbformat": 4,
 "nbformat_minor": 2
}
